{
 "cells": [
  {
   "cell_type": "code",
   "execution_count": 1,
   "id": "c7c08c15",
   "metadata": {},
   "outputs": [],
   "source": [
    "import numpy as np\n",
    "import pandas as pd"
   ]
  },
  {
   "cell_type": "code",
   "execution_count": 2,
   "id": "50f317c7",
   "metadata": {},
   "outputs": [],
   "source": [
    "with open(\"inchikey_line_numbers.txt\") as f:\n",
    "    c = f.readlines()\n",
    "c = [x.replace(\" \", \"\").replace(\"\\n\", \"\").split(\":\") for x in c]\n",
    "\n",
    "df = pd.DataFrame(data=c, columns=[\"line_num\", \"line_val\"])\n",
    "df[\"line_num\"] = df[\"line_num\"].apply(pd.to_numeric)"
   ]
  },
  {
   "cell_type": "code",
   "execution_count": null,
   "id": "8c583baf",
   "metadata": {},
   "outputs": [],
   "source": [
    "df.sort_values(by=\"line_num\").reset_index(drop=True)"
   ]
  },
  {
   "cell_type": "code",
   "execution_count": 6,
   "id": "6927a8c9",
   "metadata": {},
   "outputs": [],
   "source": [
    "inchikey_val_linenum_arr = df[\"line_num\"].values\n",
    "inchikey_val_linenum_arr += 12"
   ]
  },
  {
   "cell_type": "code",
   "execution_count": 12,
   "id": "5dfe0584",
   "metadata": {},
   "outputs": [],
   "source": [
    "with open(\"inchikey_val_linnum_ls.txt\", \"w\") as f:\n",
    "    for x in inchikey_val_linenum_arr:\n",
    "        f.write(f\"awk 'NR=={x} {{print; exit}}' /Users/dteng/Documents/zdata/Compound_147000001_147500000.xml >> inchi_vals_actual.txt\\n\")"
   ]
  },
  {
   "cell_type": "code",
   "execution_count": null,
   "id": "b0cc9086",
   "metadata": {},
   "outputs": [],
   "source": []
  }
 ],
 "metadata": {
  "kernelspec": {
   "display_name": "Python 3",
   "language": "python",
   "name": "python3"
  },
  "language_info": {
   "codemirror_mode": {
    "name": "ipython",
    "version": 3
   },
   "file_extension": ".py",
   "mimetype": "text/x-python",
   "name": "python",
   "nbconvert_exporter": "python",
   "pygments_lexer": "ipython3",
   "version": "3.9.1"
  }
 },
 "nbformat": 4,
 "nbformat_minor": 5
}
