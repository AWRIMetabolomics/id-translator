{
 "cells": [
  {
   "cell_type": "code",
   "execution_count": 1,
   "id": "80f4878d",
   "metadata": {},
   "outputs": [],
   "source": [
    "import numpy as np\n",
    "import pandas as pd\n",
    "\n",
    "import requests\n",
    "import time\n",
    "import json"
   ]
  },
  {
   "cell_type": "code",
   "execution_count": 2,
   "id": "0843d3fb",
   "metadata": {},
   "outputs": [],
   "source": [
    "dm = pd.read_csv(\"/Users/dteng/Documents/zdata/generic_sample_data/J202201B_SecMetabs_namemap.csv\")\n",
    "dm = dm.fillna(\"undef\")"
   ]
  },
  {
   "cell_type": "code",
   "execution_count": 3,
   "id": "0d46e087",
   "metadata": {},
   "outputs": [
    {
     "name": "stdout",
     "output_type": "stream",
     "text": [
      "Done in 66.43s\n"
     ]
    }
   ],
   "source": [
    "t0 = time.perf_counter()\n",
    "\n",
    "results_dict_dict = {}\n",
    "for inchikey in dm[\"InCHIKey\"].values:\n",
    "    result_dict = {}\n",
    "    if inchikey != \"undef\":\n",
    "        url = f\"https://cts.fiehnlab.ucdavis.edu/rest/convert/InChIKey/Human%20Metabolome%20Database/{inchikey}\"\n",
    "        r = requests.get(url)\n",
    "        response_dict = json.loads(r.text)[0]\n",
    "        \n",
    "        # populate result dict\n",
    "        result_dict[\"status_code\"] = r.status_code\n",
    "        result_dict[\"result\"] = response_dict[\"results\"]\n",
    "        results_dict_dict[inchikey] = result_dict\n",
    "\n",
    "print(\"Done in %.2fs\" % (time.perf_counter() - t0))"
   ]
  },
  {
   "cell_type": "code",
   "execution_count": 4,
   "id": "5fa8c106",
   "metadata": {},
   "outputs": [
    {
     "data": {
      "text/plain": [
       "{'ONIBWKKTOPOVIA-SCSAIBSYSA-N': {'status_code': 200,\n",
       "  'result': ['HMDB0003411']},\n",
       " 'XHZMOKNFPZDZBZ-YQGMFIQUSA-N': {'status_code': 200, 'result': []},\n",
       " 'HEBKCHPVOIAQTA-UHFFFAOYSA-N': {'status_code': 200,\n",
       "  'result': ['HMDB0000568']},\n",
       " 'BQADMILWYUBNTA-XNCJUZBTSA-N': {'status_code': 200, 'result': []},\n",
       " 'HVPFXCBJHIIJGS-LURJTMIESA-N': {'status_code': 200,\n",
       "  'result': ['HMDB0003334']},\n",
       " 'SKCKOFZKJLZSFA-BXKVDMCESA-N': {'status_code': 200, 'result': []},\n",
       " 'XTWYTFMLZFPYCI-KQYNXXCUSA-N': {'status_code': 200,\n",
       "  'result': ['HMDB0001341']},\n",
       " 'IERHLVCPSMICTF-XVFCMESISA-N': {'status_code': 200,\n",
       "  'result': ['HMDB0000095']},\n",
       " 'IWKXDMQDITUYRK-KUBHLMPHSA-N': {'status_code': 200, 'result': []},\n",
       " 'RWSXRVCMGQZWBV-WDSKDSINSA-N': {'status_code': 200,\n",
       "  'result': ['HMDB0000125']},\n",
       " 'HXEACLLIILLPRG-RXMQYKEDSA-N': {'status_code': 200,\n",
       "  'result': ['HMDB0005960']},\n",
       " 'AMXVYJYMZLDINS-RSWLNLDNSA-N': {'status_code': 200, 'result': []},\n",
       " 'PHYKLCHCKYTLRX-YFKPBYRVSA-N': {'status_code': 200, 'result': []},\n",
       " 'ODHCTXKNWHHXJC-GSVOUGTGSA-N': {'status_code': 200, 'result': []},\n",
       " 'GYLJADLTHUFDRR-UHFFFAOYSA-N': {'status_code': 200,\n",
       "  'result': ['HMDB0031847']},\n",
       " 'YPZRWBKMTBYPTK-BJDJZHNGSA-N': {'status_code': 200, 'result': []},\n",
       " 'VMETVXNVLXCEFC-UHFFFAOYSA-N': {'status_code': 200,\n",
       "  'result': ['HMDB0038239']},\n",
       " 'YGIAGXACEXFIDU-UHFFFAOYSA-N': {'status_code': 200,\n",
       "  'result': ['HMDB0094713']},\n",
       " 'LNQVTSROQXJCDD-KQYNXXCUSA-N': {'status_code': 200,\n",
       "  'result': ['HMDB0003540']},\n",
       " 'IIBOGKHTXBPGEI-UHFFFAOYSA-N': {'status_code': 200, 'result': []},\n",
       " 'BAWFJGJZGIEFAR-NNYOXOHSSA-O': {'status_code': 200,\n",
       "  'result': ['HMDB0000902']},\n",
       " 'IQHUITKNHOKGFC-MIMYLULJSA-N': {'status_code': 200, 'result': []},\n",
       " 'FZXCPFJMYOQZCA-UHFFFAOYSA-N': {'status_code': 200,\n",
       "  'result': ['HMDB0061705']},\n",
       " 'CWRPZJWABUTVME-UHFFFAOYSA-N': {'status_code': 200,\n",
       "  'result': ['HMDB0059723']},\n",
       " 'PMMURAAUARKVCB-UHFFFAOYSA-N': {'status_code': 200, 'result': []},\n",
       " 'USNGMBVRXPPYEY-FNCVBFRFSA-N': {'status_code': 200, 'result': []},\n",
       " 'MBBNCIKYWHIZGN-UHFFFAOYSA-N': {'status_code': 200,\n",
       "  'result': ['HMDB0094718']},\n",
       " 'UBLWFFBGMBRBMC-UHFFFAOYSA-N': {'status_code': 200, 'result': []},\n",
       " 'BVIAOQMSVZHOJM-UHFFFAOYSA-N': {'status_code': 200,\n",
       "  'result': ['HMDB0000473']},\n",
       " 'JJJLAXLRPLCXNT-UHFFFAOYSA-N': {'status_code': 200, 'result': []},\n",
       " 'TZFNLOMSOLWIDK-UHFFFAOYSA-N': {'status_code': 200, 'result': []},\n",
       " 'LJPDJTPZNJKXPW-QMMMGPOBSA-N': {'status_code': 200, 'result': []},\n",
       " 'KZSNJWFQEVHDMF-SCSAIBSYSA-N': {'status_code': 200, 'result': []},\n",
       " 'PLVPPLCLBIEYEA-AATRIKPKSA-N': {'status_code': 200, 'result': []},\n",
       " 'JFDDFGLNZWNJTK-UHFFFAOYSA-N': {'status_code': 200, 'result': []},\n",
       " 'KCSKCIQYNAOBNQ-YBSFLMRUSA-N': {'status_code': 200, 'result': []},\n",
       " 'FNXLRMBMPFMFJE-TZMCWYRMSA-N': {'status_code': 200, 'result': []},\n",
       " 'UHQFXIWMAQOCAN-UHFFFAOYSA-N': {'status_code': 200, 'result': []},\n",
       " 'INZNPXHWACTNAT-UHFFFAOYSA-N': {'status_code': 200, 'result': []},\n",
       " 'MDXGYYOJGPFFJL-QMMMGPOBSA-N': {'status_code': 200, 'result': []},\n",
       " 'FSGFZJVYAZKWHO-UHFFFAOYSA-N': {'status_code': 200,\n",
       "  'result': ['HMDB0029031']},\n",
       " 'JBIJLHTVPXGSAM-UHFFFAOYSA-N': {'status_code': 200,\n",
       "  'result': ['HMDB0041802']},\n",
       " 'JOMSVTQPEFGELV-UHFFFAOYSA-N': {'status_code': 200, 'result': []},\n",
       " 'KVCPIDDKLUDCQJ-UHFFFAOYSA-N': {'status_code': 200,\n",
       "  'result': ['HMDB0040551']},\n",
       " 'XNJDZRGYWQBBMZ-UHFFFAOYSA-N': {'status_code': 200, 'result': []},\n",
       " 'IHCPDBBYTYJYIL-UHFFFAOYSA-N': {'status_code': 200,\n",
       "  'result': ['HMDB0000378']},\n",
       " 'OPPXDBWFRYVXHW-UHFFFAOYSA-N': {'status_code': 200,\n",
       "  'result': ['HMDB0031897']},\n",
       " 'AQHJZWISLYVACJ-UFBFGSQYSA-N': {'status_code': 200,\n",
       "  'result': ['HMDB0062178']},\n",
       " 'DEAOYWWBDXWSOD-UHFFFAOYSA-N': {'status_code': 200, 'result': []},\n",
       " 'HEQBQGYOPQNTBN-XIDLQPTCSA-N': {'status_code': 200, 'result': []},\n",
       " 'GBYFRWZNEYJWAD-VTWSTLNFSA-N': {'status_code': 200, 'result': []},\n",
       " 'DBOMTIHROGSFTI-QMMMGPOBSA-N': {'status_code': 200, 'result': []},\n",
       " 'KMNHZNJPIOZBEM-UHFFFAOYSA-N': {'status_code': 200,\n",
       "  'result': ['HMDB0033231']},\n",
       " 'PXWCUJRVSZCPHE-UHFFFAOYSA-N': {'status_code': 200,\n",
       "  'result': ['HMDB0032181']},\n",
       " 'LINOMUASTDIRTM-PQJODXSWSA-N': {'status_code': 200, 'result': []},\n",
       " 'RPMMDFYGVMKCJU-UHFFFAOYSA-N': {'status_code': 200, 'result': []},\n",
       " 'NWGKJDSIEKMTRX-MDZDMXLPSA-N': {'status_code': 200,\n",
       "  'result': ['HMDB0029886']},\n",
       " 'REVZBRXEBPWDRA-UHFFFAOYSA-N': {'status_code': 200,\n",
       "  'result': ['HMDB0032521']},\n",
       " 'KHPCPRHQVVSZAH-GUNCLKARSA-N': {'status_code': 200, 'result': []},\n",
       " 'NMJUFBYLHTUFKB-GDBMZVCRSA-N': {'status_code': 200, 'result': []},\n",
       " 'LPMVKZXODWQHGJ-ILYOTBPNSA-N': {'status_code': 200,\n",
       "  'result': ['HMDB0013651']},\n",
       " 'SVRBKLJIDJHADS-USWSLJGRSA-N': {'status_code': 200,\n",
       "  'result': ['HMDB0011477']},\n",
       " 'JZWNYZVVZXZRRH-UHFFFAOYSA-N': {'status_code': 200,\n",
       "  'result': ['HMDB0061694']},\n",
       " 'YVYMBNSKXOXSKW-UHFFFAOYSA-N': {'status_code': 200, 'result': []},\n",
       " 'PYVRVRFVLRNJLY-MZMPXXGTSA-N': {'status_code': 200,\n",
       "  'result': ['HMDB0011506']},\n",
       " 'LFUDDCMNKWEORN-ZXEGGCGDSA-N': {'status_code': 200,\n",
       "  'result': ['HMDB0010383']},\n",
       " 'FLFGNMFWNBOBGE-FNNZEKJRSA-N': {'status_code': 200, 'result': []},\n",
       " 'FGYKUFVNYVMTAM-WAZJVIJMSA-N': {'status_code': 200, 'result': []},\n",
       " 'HBZNVZIRJWODIB-NHCUFCNUSA-N': {'status_code': 200,\n",
       "  'result': ['HMDB0008928']},\n",
       " 'MWRBNPKJOOWZPW-NYVOMTAGSA-N': {'status_code': 200,\n",
       "  'result': ['HMDB0009059']},\n",
       " 'PABVKUJVLNMOJP-WHFBIAKZSA-N': {'status_code': 200,\n",
       "  'result': ['HMDB0028816']}}"
      ]
     },
     "execution_count": 4,
     "metadata": {},
     "output_type": "execute_result"
    }
   ],
   "source": [
    "results_dict_dict"
   ]
  },
  {
   "cell_type": "code",
   "execution_count": 5,
   "id": "d8d9a224",
   "metadata": {},
   "outputs": [],
   "source": [
    "def fill_in_hmdb(hmdb_orig, inchikey, results_dict_dict):\n",
    "    hmdb_id_final = hmdb_orig\n",
    "    if hmdb_orig == \"undef\" and inchikey != \"undef\":\n",
    "        if len(results_dict_dict[inchikey][\"result\"]) > 0:\n",
    "            hmdb_id_final = results_dict_dict[inchikey][\"result\"][0]\n",
    "        \n",
    "    return hmdb_id_final\n",
    "        \n",
    "\n",
    "hmdb_id_vals = dm.apply(lambda row: fill_in_hmdb(str(row[\"HMDB\"]), str(row[\"InCHIKey\"]), results_dict_dict), axis=1)"
   ]
  },
  {
   "cell_type": "code",
   "execution_count": null,
   "id": "021c078d",
   "metadata": {},
   "outputs": [],
   "source": [
    "np.array(hmdb_id_vals)"
   ]
  },
  {
   "cell_type": "code",
   "execution_count": null,
   "id": "20eb651d",
   "metadata": {},
   "outputs": [],
   "source": []
  }
 ],
 "metadata": {
  "kernelspec": {
   "display_name": "Python 3",
   "language": "python",
   "name": "python3"
  },
  "language_info": {
   "codemirror_mode": {
    "name": "ipython",
    "version": 3
   },
   "file_extension": ".py",
   "mimetype": "text/x-python",
   "name": "python",
   "nbconvert_exporter": "python",
   "pygments_lexer": "ipython3",
   "version": "3.9.1"
  }
 },
 "nbformat": 4,
 "nbformat_minor": 5
}
