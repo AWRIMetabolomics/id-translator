{
 "cells": [
  {
   "cell_type": "markdown",
   "id": "c1b03d2f",
   "metadata": {},
   "source": [
    "# Generate HMDB Accession Dict\n",
    "\n",
    "* Given the `hmdb_metabolites.xml` file, scrape a dictionary of primary HMDB accession numbers, with their respective secondary accession numbers, and save it all in a `json`. \n",
    "* **Input:** `abs/path/to/hmdb_metabolites.xml`\n",
    "* Necessary because MetaboAnalyst sometimes returns secondary accession numbers instead of primary ones, and a GET request to `https://hmdb.ca/metabolites/{hmdb_id}.xml` won't work for secondary HMDB accession numbers (browser behaviour: auto-redirect to primary accession number, which confuses the GET request, causing it to return javascript gibberish with status code 200). \n",
    "* runtime: approx 200s. "
   ]
  },
  {
   "cell_type": "code",
   "execution_count": 1,
   "id": "f5abd9c9",
   "metadata": {},
   "outputs": [],
   "source": [
    "import time\n",
    "import numpy as np\n",
    "import pandas as pd\n",
    "import json\n",
    "#import os\n",
    "import subprocess\n",
    "\n",
    "pd.set_option('display.max_rows', 500)\n"
   ]
  },
  {
   "cell_type": "code",
   "execution_count": 18,
   "id": "0067e7fc",
   "metadata": {},
   "outputs": [
    {
     "name": "stdout",
     "output_type": "stream",
     "text": [
      "209.76s\n"
     ]
    }
   ],
   "source": [
    "# -------------------- user input params --------------------\n",
    "path_to_hmdb_xml = \"/Users/dteng/Documents/zdata/hmdb_metabolites_14jun2022.xml\"\n",
    "path_out_json = \"hmdb_id_dict.json\"\n",
    "\n",
    "# -------------------- run! --------------------\n",
    "t0 = time.perf_counter()\n",
    "\n",
    "cmd = f'grep -n \"<metabolite>\" {path_to_hmdb_xml}'\n",
    "myoutput = subprocess.run(cmd, shell=True, capture_output=True)\n",
    "output_str = myoutput.stdout.decode('ascii')\n",
    "cmd = f'grep -n \"<accession>\" {path_to_hmdb_xml}'\n",
    "myoutput = subprocess.run(cmd, shell=True, capture_output=True)\n",
    "output2 = myoutput.stdout.decode('ascii')\n",
    "output_str += output2\n",
    "\n",
    "# parse stdout output into a list of lists\n",
    "c = output_str.split(\"\\n\")\n",
    "c2 = []\n",
    "for i in range(len(c[:-1])):\n",
    "    if len(c[i]) > 0:\n",
    "        new_line = c[i].replace(\" \", \"\").replace(\"\\n\", \"\").replace(\"<accession>\", \"\").replace(\"</accession>\", \"\").split(\":\")\n",
    "        new_line[0] = int(new_line[0])\n",
    "        c2.append(new_line)\n",
    "\n",
    "# put in df to sort\n",
    "df = pd.DataFrame(data=c2, columns=[\"line_num\", \"line_value\"]).sort_values(by=\"line_num\").reset_index(drop=True)\n",
    "m = df.values\n",
    "\n",
    "temp_ls = \"|\".join(m[1:, 1]).split(\"|<metabolite>|\")\n",
    "temp_ls = [x.split(\"|\") for x in temp_ls]\n",
    "\n",
    "hmdb_accession_dict = {}\n",
    "for row in temp_ls:\n",
    "    hmdb_accession_dict[row[0]] = row\n",
    "    \n",
    "print(\"%.2fs\" % (time.perf_counter() - t0))"
   ]
  },
  {
   "cell_type": "code",
   "execution_count": null,
   "id": "31626e78",
   "metadata": {},
   "outputs": [],
   "source": [
    "with open(path_out_json, \"w\") as f:\n",
    "    json.dump(hmdb_accession_dict, f)\n"
   ]
  },
  {
   "cell_type": "code",
   "execution_count": null,
   "id": "c9a9636d",
   "metadata": {},
   "outputs": [],
   "source": []
  }
 ],
 "metadata": {
  "kernelspec": {
   "display_name": "Python 3",
   "language": "python",
   "name": "python3"
  },
  "language_info": {
   "codemirror_mode": {
    "name": "ipython",
    "version": 3
   },
   "file_extension": ".py",
   "mimetype": "text/x-python",
   "name": "python",
   "nbconvert_exporter": "python",
   "pygments_lexer": "ipython3",
   "version": "3.9.1"
  }
 },
 "nbformat": 4,
 "nbformat_minor": 5
}
