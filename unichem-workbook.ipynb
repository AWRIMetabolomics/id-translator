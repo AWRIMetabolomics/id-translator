{
 "cells": [
  {
   "cell_type": "code",
   "execution_count": 1,
   "id": "78d74815",
   "metadata": {},
   "outputs": [],
   "source": [
    "import numpy as np\n",
    "import pandas as pd\n",
    "import requests\n",
    "\n",
    "import time\n",
    "import json"
   ]
  },
  {
   "cell_type": "code",
   "execution_count": 2,
   "id": "53245917",
   "metadata": {},
   "outputs": [],
   "source": [
    "with open(\"inchi_vals_actual_test100.txt\") as f:\n",
    "    c = f.readlines()\n",
    "\n",
    "c = [x.replace(\" \", \"\").replace(\"<PC-InfoData_value_sval>\", \"\").replace(\"</PC-InfoData_value_sval>\\n\", \"\") for x in c]"
   ]
  },
  {
   "cell_type": "code",
   "execution_count": 3,
   "id": "e1adb922",
   "metadata": {},
   "outputs": [],
   "source": [
    "my_inchikey = 'ARWWEFSFXGBTAO-UHFFFAOYSA-N'\n",
    "r = requests.get(f\"https://www.ebi.ac.uk/unichem/rest/inchikey/{my_inchikey}\")\n",
    "\n",
    "response_ls = json.loads(r.text)"
   ]
  },
  {
   "cell_type": "code",
   "execution_count": 4,
   "id": "dc0c24fe",
   "metadata": {},
   "outputs": [
    {
     "name": "stdout",
     "output_type": "stream",
     "text": [
      "147000243\n"
     ]
    }
   ],
   "source": [
    "for row_dict in response_ls:\n",
    "    if row_dict[\"src_id\"] == \"22\": #pubchem\n",
    "        print(row_dict[\"src_compound_id\"])"
   ]
  },
  {
   "cell_type": "code",
   "execution_count": null,
   "id": "5f441796",
   "metadata": {},
   "outputs": [],
   "source": []
  }
 ],
 "metadata": {
  "kernelspec": {
   "display_name": "Python 3",
   "language": "python",
   "name": "python3"
  },
  "language_info": {
   "codemirror_mode": {
    "name": "ipython",
    "version": 3
   },
   "file_extension": ".py",
   "mimetype": "text/x-python",
   "name": "python",
   "nbconvert_exporter": "python",
   "pygments_lexer": "ipython3",
   "version": "3.9.1"
  }
 },
 "nbformat": 4,
 "nbformat_minor": 5
}
